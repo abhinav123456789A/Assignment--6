{
 "cells": [
  {
   "cell_type": "code",
   "execution_count": null,
   "id": "05375984",
   "metadata": {},
   "outputs": [],
   "source": [
    "# Question 1.) What are keywords in python? Using the keyword library, print all the python keywords.\n",
    "\n",
    "Ans: Here is a list of the Python keywords.\n",
    "\n",
    "False               class               from                or\n",
    "None                continue            global              pass\n",
    "True                def                 if                  raise\n",
    "and                 del                 import              return\n",
    "as                  elif                in                  try\n",
    "assert              else                is                  while\n",
    "async               except              lambda              with\n",
    "await               finally             nonlocal            yield\n",
    "break               for                 not"
   ]
  },
  {
   "cell_type": "code",
   "execution_count": null,
   "id": "07022292",
   "metadata": {},
   "outputs": [],
   "source": [
    "# Question 2.) What are the rules to create variables in python?\n",
    "\n",
    "Ans: Rules to create variable in python are:\n",
    "        \n",
    "    1.) A variable name must start with a letter or the underscore character\n",
    "    2.) A variable name cannot start with a number\n",
    "    3.) A variable name can only contain alpha-numeric characters and underscores (A-z, 0-9, and _ )\n",
    "    4.) Variable names are case-sensitive (age, Age and AGE are three different variables)"
   ]
  },
  {
   "cell_type": "code",
   "execution_count": null,
   "id": "1d2f5d1a",
   "metadata": {},
   "outputs": [],
   "source": [
    "# Question 3.) What are the standards and conventions followed for the nomenclature of variables in\n",
    "#              python to improve code readability and maintainability?\n",
    "\n",
    "\n",
    "Ans:\n",
    "# What to keep and what to avoid?\n",
    "\n",
    "How to start?\n",
    "Don’t use names that look too general or wordy.\n",
    "Maintain a fine line between the two.\n",
    "What is bad?\n",
    "user_list, moveInts, swapNums, dict_to_store_defns_of_a_word\n",
    "What is good?\n",
    "user_info, move_integers, swap_numbers, word_definitions.\n",
    "Things to note-\n",
    "Don’t be naive and name things like “X,” “Y” or “Z.”\n",
    "Use CamelCase only when it makes sens\n",
    "\n",
    "# What is a good Instance variable name?\n",
    "Instance variable names should follow the lowercase convention.\n",
    "Have the underscore as a separator while naming a multi-word instance variable.\n",
    "Begin a non-public instance variable name with a single underscore.\n",
    "Use two consecutive underscores at the beginning of an instance variable. It will get the name mangled (kind of like a private member)."
   ]
  },
  {
   "cell_type": "code",
   "execution_count": null,
   "id": "6a45b607",
   "metadata": {},
   "outputs": [],
   "source": [
    "# Question 4.) What will happen if a keyword is used as a variable name?\n",
    "\n",
    "Ans: We cannot use a keyword as a variable name, function name, or any other identifier. \n",
    "     They are used to define the syntax and structure of the Python language."
   ]
  },
  {
   "cell_type": "code",
   "execution_count": null,
   "id": "4856ecfa",
   "metadata": {},
   "outputs": [],
   "source": [
    "# Question 5.) For what purpose def keyword is used?\n",
    "\n",
    "Ans: def keyword is used to define the function"
   ]
  },
  {
   "cell_type": "code",
   "execution_count": null,
   "id": "57438057",
   "metadata": {},
   "outputs": [],
   "source": [
    "# Question 6.) What is the operation of this special character ‘\\’?\n",
    "\n",
    "Ans: It Separates locations in a file or network path"
   ]
  },
  {
   "cell_type": "code",
   "execution_count": null,
   "id": "7f1d84e5",
   "metadata": {},
   "outputs": [],
   "source": [
    "# Question 7.) Give an example of the following conditions:\n",
    "(i) Homogeneous list\n",
    "(ii) Heterogeneous set\n",
    "(iii) Homogeneous tuple\n",
    "\n",
    "\n",
    "(i) Homogeneous list (ii) Heterogeneous set (iii) Homogeneous tuple\n",
    "\n",
    "Ans: (i) Homogeneous List: Homogeneous List means that it only contains a single type of data\n",
    "\n",
    "(ii) Heterogeneous set:\n",
    "     Python sets can store heterogeneous elements in it, \n",
    "     i.e., a set can store a mixture of string, integer, boolean, etc datatypes\n",
    "    \n",
    "(iii) Homogeneous tuple:\n",
    "     Lists are mutable, \n",
    "     and their elements are usually homogeneous and are accessed by iterating over the list"
   ]
  },
  {
   "cell_type": "code",
   "execution_count": null,
   "id": "9de00339",
   "metadata": {},
   "outputs": [],
   "source": [
    "# Question 8.) Explain the mutable and immutable data types with proper explanation & examples.\n",
    "Ans: \n",
    "    Mutable data types:\n",
    "        Anything is said to be mutable when anything can be modified or changed. \n",
    "        The term \"mutable\" in Python refers to an object's capacity to modify its values. \n",
    "        These are frequently the things that hold a data collection.\n",
    "        \n",
    "    Immutable data types:\n",
    "        Immutable refers to a state in which no change can occur over time. \n",
    "        A Python object is referred to as immutable if we cannot change its value over time. \n",
    "        The value of these Python objects is fixed once they are made.\n",
    "        "
   ]
  },
  {
   "cell_type": "code",
   "execution_count": 5,
   "id": "96f48ae6",
   "metadata": {},
   "outputs": [
    {
     "name": "stdout",
     "output_type": "stream",
     "text": [
      "* \r\n",
      "* * \r\n",
      "* * * \r\n",
      "* * * * \r\n",
      "* * * * * \r\n"
     ]
    }
   ],
   "source": [
    "# Question 9.) Write a code to create the given structure using only for loop.\n",
    "# *\n",
    "# ***\n",
    "# *****\n",
    "# *******\n",
    "# *********\n",
    "\n",
    "rows = 5\n",
    "for i in range(0, rows):\n",
    "    for j in range(0, i + 1):\n",
    "        print(\"*\",end=' ' )\n",
    "  \n",
    "    print(\"\\r\")"
   ]
  },
  {
   "cell_type": "code",
   "execution_count": 10,
   "id": "f02f7015",
   "metadata": {},
   "outputs": [
    {
     "name": "stdout",
     "output_type": "stream",
     "text": [
      "Enter number of rows: 5\n",
      "| | | | | | | \n",
      "  | | | | | \n",
      "    | | | \n",
      "      | \n"
     ]
    }
   ],
   "source": [
    "# Question 10.) Write a code to create the given structure using while loop.\n",
    "# ||||||||| \n",
    "#  |||||||\n",
    "#   |||||\n",
    "#    |||\n",
    "#     |\n",
    "\n",
    "\n",
    "# Ans: \n",
    "\n",
    "\n",
    "rows = int(input(\"Enter number of rows: \"))\n",
    "\n",
    "for i in range(rows, 1, -1):\n",
    "    for space in range(0, rows-i):\n",
    "        print(\"  \", end=\"\")\n",
    "    for j in range(i, 2*i-1):\n",
    "        print(\"| \", end=\"\")\n",
    "    for j in range(1, i-1):\n",
    "        print(\"| \", end=\"\")\n",
    "    print()"
   ]
  },
  {
   "cell_type": "code",
   "execution_count": null,
   "id": "8fa69538",
   "metadata": {},
   "outputs": [],
   "source": []
  }
 ],
 "metadata": {
  "kernelspec": {
   "display_name": "Python 3 (ipykernel)",
   "language": "python",
   "name": "python3"
  },
  "language_info": {
   "codemirror_mode": {
    "name": "ipython",
    "version": 3
   },
   "file_extension": ".py",
   "mimetype": "text/x-python",
   "name": "python",
   "nbconvert_exporter": "python",
   "pygments_lexer": "ipython3",
   "version": "3.10.9"
  }
 },
 "nbformat": 4,
 "nbformat_minor": 5
}
